{
 "cells": [
  {
   "cell_type": "markdown",
   "metadata": {},
   "source": [
    "# Live Review Notes\n",
    "\n",
    "- toc: true\n",
    "- comments: true\n",
    "- categories: [Week-13,Big-Idea-3]"
   ]
  },
  {
   "cell_type": "markdown",
   "metadata": {},
   "source": [
    "## 3.1 Variables and Assignments\n",
    "* Variables are specific things that stores a value\n",
    "* Values can be individual datas or a list/collection that contains many data values\n",
    "* Types of data include ints, Booleans, lists, and strings\n",
    "    * Floats work just like ints, but floats have decimals\n",
    "* Assignments is done with the = sign\n",
    "    * Lists are assigned withcan have values added to them with the append function\n",
    "    * Dictionaries are initialized with {} and : signs\n",
    "    * variables can also be assigned\n",
    "* Expressions can be used to change a number +,-,*,/,//,% are some of the examples"
   ]
  },
  {
   "cell_type": "markdown",
   "metadata": {},
   "source": [
    "## 3.2 Data Abstraction\n",
    "* Connects the abstract data with concrete details of its representation\n",
    "* Manage Complexity by refering to a variable without assigning it to a name\n",
    "    * Lists can treat many variables by treating it like a single variable.\n",
    "* Data abstraction makes it easier to maintain code\n",
    "* Collegeboard lists starts at 1, instead of 0 like most programming languages\n",
    "* The split function can be used to split a string into a list"
   ]
  },
  {
   "cell_type": "markdown",
   "metadata": {},
   "source": [
    "## 3.3 Expressions\n",
    "* Symbols that do something\n",
    "    * \\+ is addition, \n",
    "    * \\- is subtraction,\n",
    "    * \\* is multiplication\n",
    "    * / is division\n",
    "    * ** is exponent\n",
    "    * % is modulation\n",
    "* They operates on values to produce a result\n",
    "* Algorithm is a set of procedures that does something"
   ]
  },
  {
   "cell_type": "markdown",
   "metadata": {},
   "source": [
    "## 3.4 Strings\n",
    "* Functions like a list of chars, with indexes at each char of itself.\n",
    "* Concatenaction is the addition of a string to another, with the + expression\n",
    "* Length is the number of chars in a string\n",
    "* A substring is a part of a string\n",
    "* Psuedocode is a procedure that is not written in actual code, but is easiliy understandable"
   ]
  },
  {
   "cell_type": "markdown",
   "metadata": {},
   "source": [
    "## 3.5 Boolean Expressions\n",
    "* Boolean Expression reads off operands at its two sides and returns a boolean result\n",
    "    * Consists of Relational and Logical Operators\n",
    "* Relational Operators consists of ==, !=, <, >, <=, >=\n",
    "* Logical Operators' operands is only booleans and consists of not, and, or\n",
    "* In evaluation, Relational Operator goes first, then not, and, or, in that order"
   ]
  },
  {
   "cell_type": "markdown",
   "metadata": {},
   "source": [
    "## 3.6-7 Conditionals and Nested Conditionals\n",
    "* Conditionals decides the flow of the algorithm depending on a boolean\n",
    "* If the boolean is true, it goes to the if clause, else, it goes to the else clause\n",
    "* Conditionals are good to construct algorithms\n",
    "* Nested Conditionals are if-else clauses in side a if-else clause and helps algorithms further"
   ]
  },
  {
   "cell_type": "markdown",
   "metadata": {},
   "source": [
    "## 3.8 Iteration\n",
    "* Iteration is the repetition of a particular set of algorithm\n",
    "    * Conditional Iteration is iterations that only stops when a condition is met, often using if statements\n",
    "* Iteration is often done using loops\n",
    "    * Also often uses lists or dictionaries\n",
    "* Nested loops is useful for iterating inside a iteration"
   ]
  },
  {
   "attachments": {},
   "cell_type": "markdown",
   "metadata": {},
   "source": [
    "## 3.9 Algorithm\n",
    "* Algorithm is a set of procedure that can be followed to solve a problem\n",
    "* A problem can have many algorithms that solves it\n",
    "* When looking at a program, it is important to understand the algorithm used to control it\n",
    "    * An algorithm can have flow control controlled by if-else statements\n",
    "* Understanding what parameters should go in is necessary"
   ]
  },
  {
   "cell_type": "markdown",
   "metadata": {},
   "source": [
    "## 3.10 Lists\n",
    "* Lists are a number of items that is refered to by an index\n",
    "    * In most languages, the index start at 0 (but it starts at 1 for collegeboard)\n",
    "* Lists can be used to store a large amounts of information that would've required a lot of variables to store\n",
    "* Methods can be used on lists to modify what the list is made of as well as access specific values"
   ]
  },
  {
   "attachments": {},
   "cell_type": "markdown",
   "metadata": {},
   "source": [
    "## 3.11 Searching\n",
    "* Searching is a way for the computer to find the location of a value\n",
    "* Searching each value in succession is not optimal\n",
    "* Having the list being sorted from least to great can enable binary search\n",
    "    * Binary search is more optimal than searching each one in succession, having log complexity than linear complexity\n",
    "        * Divide the list in 2 parts at each step, so no need to look over every value\n",
    "    "
   ]
  },
  {
   "attachments": {},
   "cell_type": "markdown",
   "metadata": {},
   "source": [
    "## 3.12 Procedure\n",
    "* Procedure is a named method of code that takes input and returns output\n",
    "    * Basically same as function\n",
    "* Parameter is the values that a procedure takes in\n",
    "* Arguments are things specifying the values of parameter"
   ]
  },
  {
   "attachments": {},
   "cell_type": "markdown",
   "metadata": {},
   "source": [
    "## 3.13 Developing Procedures\n",
    "* Need to know things in order to create a procedure\n",
    "    * The type, value, and meaning of the input\n",
    "    * The intended output and how to arrive at the output\n",
    "* Modularity is the seperating of parts into functions to simplify things\n",
    "* Procedral Abstraction is calling a procedure without actually stating what a \n",
    "    * Basically the ability to function calls\n",
    "* A return statement ends a procedure and returns a value\n",
    "    * Done with the return keyword in most languages"
   ]
  },
  {
   "attachments": {},
   "cell_type": "markdown",
   "metadata": {},
   "source": [
    "## 3.14 Libraries\n",
    "* Libraries are preexisting sets of functions that have to be imported to be used\n",
    "* In python, libraries are imported with the import keyword\n",
    "    * math is a python library that has functions that helps with maths, like square roots and trignometry\n",
    "    * turtle is another library that can draw things on a canvas"
   ]
  },
  {
   "attachments": {},
   "cell_type": "markdown",
   "metadata": {},
   "source": [
    "## 3.15 Random\n",
    "* Randomness in programming is done with a random number generator, or the RNG gamers often talks about\n",
    "* random is the python library for randomness, it has several useful functions to generate random values\n",
    "    * random.random() generates a random float between 0 and 1\n",
    "    * random.randint() generates a random int between its two parameters, inclusice\n",
    "    * random.shuffle() randomizes the order of a list\n",
    "* Randomness is often used to simulate real world scenerios that is random\n",
    "    * Example: a die roll"
   ]
  },
  {
   "attachments": {},
   "cell_type": "markdown",
   "metadata": {},
   "source": [
    "## 3.16 Simulation\n",
    "* Simulation is a program that simulates a simpler version of a real-world event\n",
    "* Can change things without real world concerns, i.e \"Let's reduce the population by 1/2\"\n",
    "* Often simplify things to make simulating easier\n",
    "    * Can cause bias without meaning to because of accidental exclusion of a variable that changes the outcome in real life\n",
    "* RNG often used to create randomness"
   ]
  },
  {
   "attachments": {},
   "cell_type": "markdown",
   "metadata": {},
   "source": [
    "## 3.17 Algorithmic Efficiency\n",
    "* Problem is a task that may or may not be solvable with an algorithm\n",
    "    * Decision Problems gives a yes or no answer\n",
    "    * Organisation Problems seeks to find the best answer\n",
    "* Instance is a set of specific inputs of a problem\n",
    "* Efficiency is how fast the program can run, or the amount of computing that needs to be done to solve the problem\n",
    "    * Most of the time we want a program to increase efficiency linearly or less when we have more inputs\n",
    "* Heuristic Approach is the approach that sacrafices the optimal solution for more efficiency"
   ]
  },
  {
   "attachments": {},
   "cell_type": "markdown",
   "metadata": {},
   "source": [
    "## 3.18 Undecidable Problems\n",
    "* Undecidable problems are problems that have no solution\n",
    "    * Can result from a paradox\n",
    "    * Can cause a time out of a website due to the internet being stuck in a paradox that is not fixed"
   ]
  }
 ],
 "metadata": {
  "kernelspec": {
   "display_name": "Python 3.8.10 64-bit",
   "language": "python",
   "name": "python3"
  },
  "language_info": {
   "name": "python",
   "version": "3.8.10 (default, Jun 22 2022, 20:18:18) \n[GCC 9.4.0]"
  },
  "orig_nbformat": 4,
  "vscode": {
   "interpreter": {
    "hash": "916dbcbb3f70747c44a77c7bcd40155683ae19c65e1c03b4aa3499c5328201f1"
   }
  }
 },
 "nbformat": 4,
 "nbformat_minor": 2
}
