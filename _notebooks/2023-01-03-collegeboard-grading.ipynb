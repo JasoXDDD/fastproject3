{
 "cells": [
  {
   "attachments": {},
   "cell_type": "markdown",
   "metadata": {},
   "source": [
    "# Collegeboard grading\n",
    "- title: Collegeboard grading"
   ]
  },
  {
   "attachments": {},
   "cell_type": "markdown",
   "metadata": {},
   "source": [
    "## Submission One\n",
    "|Catergory      |Score        |\n",
    "|---------------|---------------|\n",
    "|Purpose        |0            |\n",
    "|Data Abstraction|1           |\n",
    "|Managing Complexity|0        |\n",
    "|Procedural Abstraction|1     |\n",
    "|Algorithm Implementation|1   |\n",
    "|Testing        |1            |\n",
    "|Total          |4/6          | \n",
    "### Explanation\n",
    "The student did not explain purpose fully, and there were no demonstrations of Managing Complexity. However, the student did great on both procedral and data abstraction, and had shown plenty of testing as well as implementation of algorithm."
   ]
  },
  {
   "attachments": {},
   "cell_type": "markdown",
   "metadata": {},
   "source": [
    "## Submission Two\n",
    "|Catergory      |Score        |\n",
    "|---------------|---------------|\n",
    "|Purpose        |1            |\n",
    "|Data Abstraction|1           |\n",
    "|Managing Complexity|1        |\n",
    "|Procedural Abstraction|1     |\n",
    "|Algorithm Implementation|1   |\n",
    "|Testing        |1            |\n",
    "|Total          |6/6          | \n",
    "### Explanation\n",
    "The student went in depth with details of their programming, showcasing deep understanding of every catergory, as well and deep explanation of implementation and plenty of testing."
   ]
  }
 ],
 "metadata": {
  "kernelspec": {
   "display_name": "Python 3",
   "language": "python",
   "name": "python3"
  },
  "language_info": {
   "name": "python",
   "version": "3.8.10 (default, Jun 22 2022, 20:18:18) \n[GCC 9.4.0]"
  },
  "orig_nbformat": 4,
  "vscode": {
   "interpreter": {
    "hash": "916dbcbb3f70747c44a77c7bcd40155683ae19c65e1c03b4aa3499c5328201f1"
   }
  }
 },
 "nbformat": 4,
 "nbformat_minor": 2
}
