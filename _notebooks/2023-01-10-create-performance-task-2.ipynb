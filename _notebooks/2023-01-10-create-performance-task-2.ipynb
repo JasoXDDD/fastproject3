{
 "cells": [
  {
   "attachments": {},
   "cell_type": "markdown",
   "metadata": {},
   "source": [
    "# Collegeboard Grading 2\n",
    "- title: Collegeboard Grading 2"
   ]
  },
  {
   "attachments": {},
   "cell_type": "markdown",
   "metadata": {},
   "source": [
    "## Sample 1\n",
    "\n",
    "|Catergory      |Score        |\n",
    "|---------------|---------------|\n",
    "|Purpose        |0            |\n",
    "|Data Abstraction|0           |\n",
    "|Managing Complexity|0        |\n",
    "|Procedural Abstraction|0     |\n",
    "|Algorithm Implementation|0   |\n",
    "|Testing        |1            |\n",
    "|Total          |2/6          | \n",
    "\n",
    "The video and the written response do not demonstrate a creative purpose but merely restating the function of the program. The Input and the Output os also not clearly seperated in the purpose, giving it a 0. The animallist variable is declared but not used effectively, giving Data Abstraction a 0. The Code is not complex, and the response does not explain why it was complex. The algorithm of the evaluateGuess function uses the variable guess, but it is also used outside of the funciton. The response does not indicate why the algorithm demonstrate complexity. The algorithm demonstrates iteration, sequencing, and selection, but its description is not clear enough for it to be replicated. However, the program did demonstrate testing, with one wrong answers and win conditions, as well as clear description of what's being tested."
   ]
  },
  {
   "attachments": {},
   "cell_type": "markdown",
   "metadata": {},
   "source": [
    "A"
   ]
  }
 ],
 "metadata": {
  "kernelspec": {
   "display_name": "Python 3",
   "language": "python",
   "name": "python3"
  },
  "language_info": {
   "name": "python",
   "version": "3.8.10 (default, Jun 22 2022, 20:18:18) \n[GCC 9.4.0]"
  },
  "orig_nbformat": 4,
  "vscode": {
   "interpreter": {
    "hash": "916dbcbb3f70747c44a77c7bcd40155683ae19c65e1c03b4aa3499c5328201f1"
   }
  }
 },
 "nbformat": 4,
 "nbformat_minor": 2
}
