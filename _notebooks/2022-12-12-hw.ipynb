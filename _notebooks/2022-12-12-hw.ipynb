{
 "cells": [
  {
   "attachments": {},
   "cell_type": "markdown",
   "metadata": {},
   "source": [
    "# Unit 3 Lesson 16 Homework Due Midnight 12/15\n",
    "- toc: true\n",
    "- comments: true\n"
   ]
  },
  {
   "attachments": {},
   "cell_type": "markdown",
   "metadata": {},
   "source": [
    "### Hack #1 - Class Notes\n",
    "* Simulations are simple processes that mimic a more complex event in the real world\n",
    "    * Can change parameters without real world concern\n",
    "        * Time, money, etc.\n",
    "* Often necessary to remove details or simplify aspects\n",
    "    * Can lead to bias due to some real world factor being left out\n",
    "* Variability created by RNG"
   ]
  },
  {
   "attachments": {},
   "cell_type": "markdown",
   "metadata": {},
   "source": [
    "### Hack #2 - Functions Classwork"
   ]
  },
  {
   "cell_type": "code",
   "execution_count": 2,
   "metadata": {},
   "outputs": [
    {
     "name": "stdout",
     "output_type": "stream",
     "text": [
      "randomized number from 1 to 100 : 50\n"
     ]
    }
   ],
   "source": [
    "import random\n",
    "n=int(input(\"Please enter a number\"))\n",
    "print(\"randomized number from 1 to\",n,\":\",random.randint(1,n))"
   ]
  },
  {
   "cell_type": "code",
   "execution_count": 4,
   "metadata": {},
   "outputs": [
    {
     "name": "stdout",
     "output_type": "stream",
     "text": [
      "your closet currently consists of: red shoes, green pants, tie, belt\n",
      "Sorry, I did not understand what you said\n",
      "your closet currently consists of: red shoes, green pants, tie, belt\n",
      "your closet currently consists of: red shoes, green pants, tie, belt, blue shoes\n",
      "your closet currently consists of: red shoes, green pants, tie, blue shoes\n",
      "your closet now consists of: red shoes, green pants, tie, blue shoes\n"
     ]
    }
   ],
   "source": [
    "def mycloset():\n",
    "    myclothes = [\"red shoes\", \"green pants\", \"tie\", \"belt\"]\n",
    "    while True:\n",
    "        print(\"your closet currently consists of:\",\", \".join(myclothes))\n",
    "        command=input(\"please enter what you want to do (add/trash/end)\")\n",
    "        if command==\"end\":\n",
    "            break\n",
    "        elif command==\"add\":\n",
    "            item=input(\"What you want to add?\")\n",
    "            myclothes.append(item)\n",
    "        elif command==\"trash\":\n",
    "            item=input(\"What you want to remove?\")\n",
    "            if myclothes.count(item)<0:\n",
    "                print(item,\"is not in your closet\")\n",
    "            else:\n",
    "                myclothes.remove(item)\n",
    "        else:\n",
    "            print(\"Sorry, I did not understand what you said\")\n",
    "    print(\"your closet now consists of:\",\", \".join(myclothes))\n",
    "\n",
    "mycloset()"
   ]
  },
  {
   "cell_type": "markdown",
   "metadata": {},
   "source": [
    "### Hack #3 - Binary Simulation Problem"
   ]
  },
  {
   "cell_type": "code",
   "execution_count": 12,
   "metadata": {},
   "outputs": [
    {
     "name": "stdout",
     "output_type": "stream",
     "text": [
      "11001001\n",
      "Jiya is a zombie\n",
      "Shruthi is a zombie\n",
      "Noor is not a zombie\n",
      "Ananya is not a zombie\n",
      "Peter Parker is a zombie\n",
      "Andrew Garfield is not a zombie\n",
      "Tom Holland is not a zombie\n",
      "Tobey Maguire is a zombie\n"
     ]
    }
   ],
   "source": [
    "# insert your zombie simulation here; you don't have to use this template but it will help you get started\n",
    "\n",
    "import random\n",
    "\n",
    "def randomnum(l): # function for generating random int\n",
    "    return random.randint(0,2**l-1) # generates a random int based on the length of a list\n",
    "\n",
    "def converttobin(n,l): # function for converting decimal to binary\n",
    "    ans = \"\" # starts the random\n",
    "    for i in range(l-1,-1,-1): #goes from length down\n",
    "        if n>=2**i: #if a number is greater than the greatest length:\n",
    "            ans+='1' #add 1 to the and\n",
    "            n-=2**i # subtract the 2 exponential\n",
    "        else:\n",
    "            ans+=\"0\"\n",
    "    return ans\n",
    "\n",
    "def survivors(): # function to assign position\n",
    "    survivorstatus = [\"Jiya\", \"Shruthi\", \"Noor\", \"Ananya\" , \"Peter Parker\", \"Andrew Garfield\", \"Tom Holland\", \"Tobey Maguire\"]\n",
    "    binary=converttobin(randomnum(len(survivorstatus)),len(survivorstatus)) #generate a binary to simulate the status\n",
    "    # print(binary)\n",
    "    for i in range(len(survivorstatus)):\n",
    "        if binary[i] == \"1\": #if the survivor is a zombie:\n",
    "            print(survivorstatus[i],\"is a zombie\")\n",
    "        else: # if not:\n",
    "            print(survivorstatus[i],\"is not a zombie\")\n",
    "\n",
    "survivors()"
   ]
  },
  {
   "cell_type": "markdown",
   "metadata": {},
   "source": [
    "### Hack #4 - Thinking through a problem\n",
    "- create your own simulation involving a dice roll\n",
    "- should include randomization and a function for rolling + multiple trials"
   ]
  },
  {
   "cell_type": "code",
   "execution_count": 13,
   "metadata": {},
   "outputs": [
    {
     "name": "stdout",
     "output_type": "stream",
     "text": [
      "Player A rolls 4 dice and gets 15\n",
      "Player A rolls 3 dice and gets 11\n",
      "Player A goes first\n"
     ]
    }
   ],
   "source": [
    "import random\n",
    "\n",
    "def dieRoll():\n",
    "    return random.randint(1,6) #returns a number from 1 to 6\n",
    "\n",
    "def diceRoll(a,b):\n",
    "    aSum=0\n",
    "    bSum=0\n",
    "    for i in range(a):\n",
    "        aSum+=dieRoll() # roll a dices\n",
    "    for i in range(b):\n",
    "        bSum+=dieRoll()# roll b dices\n",
    "    print(\"Player A rolls\",a,\"dice and gets\",aSum)# prints the results\n",
    "    print(\"Player A rolls\",b,\"dice and gets\",bSum)\n",
    "    if aSum>bSum: # print who has the greatest value\n",
    "        print(\"Player A goes first\")\n",
    "    else:\n",
    "        print('Player B goes first')\n",
    "\n",
    "diceRoll(int(input(\"Enter the amount of die player A has\")),int(input(\"Enter the amount of die player B has\")))"
   ]
  },
  {
   "attachments": {},
   "cell_type": "markdown",
   "metadata": {},
   "source": [
    "### Hack 5 - Applying your knowledge to situation based problems\n",
    "\n",
    "Using the questions bank below, create a quiz that presents the user a random question and calculates the user's score. You can use the template below or make your own. Making your own using a loop can give you extra points. "
   ]
  },
  {
   "attachments": {},
   "cell_type": "markdown",
   "metadata": {},
   "source": [
    "1. A researcher gathers data about the effect of Advanced Placement®︎ classes on students' success in college and career, and develops a simulation to show how a sequence of AP classes affect a hypothetical student's pathway.Several school administrators are concerned that the simulation contains bias favoring high-income students, however.\n",
    "    - answer options:\n",
    "        1. The simulation is an abstraction and therefore cannot contain any bias\n",
    "        2. The simulation may accidentally contain bias due to the exclusion of details.\n",
    "        3. If the simulation is found to contain bias, then it is not possible to remove the bias from the simulation.\n",
    "        4. The only way for the simulation to be biased is if the researcher intentionally used data that favored their desired output.\n",
    "2. Jack is trying to plan his financial future using an online tool. The tool starts off by asking him to input details about his current finances and career. It then lets him choose different future scenarios, such as having children. For each scenario chosen, the tool does some calculations and outputs his projected savings at the ages of 35, 45, and 55.Would that be considered a simulation and why?\n",
    "    - answer options\n",
    "        1. No, it's not a simulation because it does not include a visualization of the results.\n",
    "        2. No, it's not a simulation because it does not include all the details of his life history and the future financial environment.\n",
    "        3. Yes, it's a simulation because it runs on a computer and includes both user input and computed output.\n",
    "        4. Yes, it's a simulation because it is an abstraction of a real world scenario that enables the drawing of inferences.\n",
    "3. Sylvia is an industrial engineer working for a sporting goods company. She is developing a baseball bat that can hit balls with higher accuracy and asks their software engineering team to develop a simulation to verify the design.Which of the following details is most important to include in this simulation?\n",
    "    - answer options\n",
    "        1. Realistic sound effects based on the material of the baseball bat and the velocity of the hit\n",
    "        2. A depiction of an audience in the stands with lifelike behavior in response to hit accuracy\n",
    "        3. Accurate accounting for the effects of wind conditions on the movement of the ball\n",
    "        4. A baseball field that is textured to differentiate between the grass and the dirt\n",
    "4. Ashlynn is an industrial engineer who is trying to design a safer parachute. She creates a computer simulation of the parachute opening at different heights and in different environmental conditions.What are advantages of running the simulation versus an actual experiment?\n",
    "    - answer options\n",
    "        1. The simulation will not contain any bias that favors one body type over another, while an experiment will be biased.\n",
    "        2. The simulation can be run more safely than an actual experiment\n",
    "        3. The simulation will accurately predict the parachute's safety level, while an experiment may be inaccurate due to faulty experimental design.\n",
    "        4. The simulation can test the parachute design in a wide range of environmental conditions that may be difficult to reliably reproduce in an experiment.\n",
    "    * this question has 2 correct answers\n",
    "5. What is often used to create variablility in simulations?\n",
    "    - anser options\n",
    "        1. Telling the user to roll dice\n",
    "        2. Using prestored value in the system to roll code\n",
    "        3. Using a Random Number Generator\n",
    "        4. Basing results off what other has said\n",
    "6. Which of the following options is used for simulating a die roll?\n",
    "    - answer options\n",
    "        1. random.random(1,6)\n",
    "        2. random.randint(1,6)\n",
    "        3. random.randrange(1,6)\n",
    "        4. random.choice(1,6)"
   ]
  },
  {
   "cell_type": "code",
   "execution_count": 17,
   "metadata": {},
   "outputs": [
    {
     "name": "stdout",
     "output_type": "stream",
     "text": [
      "Jack is trying to plan his financial future using an online tool. The tool starts off by asking him to input details about his current finances and career. It then lets him choose different future scenarios, such as having children. For each scenario chosen, the tool does some calculations and outputs his projected savings at the ages of 35, 45, and 55.Would that be considered a simulation and why?\n",
      "1: No, it's not a simulation because it does not include a visualization of the results\n",
      "2: No, it's not a simulation because it does not include all the details of his life history and the future financial environment\n",
      "3: Yes, it's a simulation because it runs on a computer and includes both user input and computed output\n",
      "4: Yes, it's a simulation because it is an abstraction of a real world scenario that enables the drawing of inferences\n",
      "Correct!\n",
      "A researcher gathers data about the effect of Advanced Placement®︎ classes on students' success in college and career, and develops a simulation to show how a sequence of AP classes affect a hypothetical student's pathway.Several school administrators are concerned that the simulation contains bias favoring high-income students, however.\n",
      "1: The simulation is an abstraction and therefore cannot contain any bias\n",
      "2: The simulation may accidentally contain bias due to the exclusion of details\n",
      "3: If the simulation is found to contain bias, then it is not possible to remove the bias from the simulation\n",
      "4: The only way for the simulation to be biased is if the researcher intentionally used data that favored their desired output\n",
      "Correct!\n",
      "Ashlynn is an industrial engineer who is trying to design a safer parachute. She creates a computer simulation of the parachute opening at different heights and in different environmental conditions.What are advantages of running the simulation versus an actual experiment? (this question has 2 correct answers, input anser with one comma, ascending, and no spaces)\n",
      "1: The simulation will not contain any bias that favors one body type over another, while an experiment will be biased\n",
      "2: The simulation can be run more safely than an actual experiment\n",
      "3: The simulation will accurately predict the parachute's safety level, while an experiment may be inaccurate due to faulty experimental design\n",
      "4: The simulation can test the parachute design in a wide range of environmental conditions that may be difficult to reliably reproduce in an experiment\n",
      "Incorrect...\n",
      "What is often used to create variablility in simulations?\n",
      "1: Telling the user to roll dice\n",
      "2: Using prestored value in the system to roll code\n",
      "3: Using a Random Number Generator\n",
      "4: Basing results off what other has said\n",
      "Correct!\n",
      "Which of the following options is used for simulating a die roll?\n",
      "1: random.random(1,6)\n",
      "2: random.randint(1,6)\n",
      "3: random.randrange(1,6)\n",
      "4: random.choice(1,6)\n",
      "Correct!\n",
      "Sylvia is an industrial engineer working for a sporting goods company. She is developing a baseball bat that can hit balls with higher accuracy and asks their software engineering team to develop a simulation to verify the design. Which of the following details is most important to include in this simulation?\n",
      "1: Realistic sound effects based on the material of the baseball bat and the velocity of the hit\n",
      "2: A depiction of an audience in the stands with lifelike behavior in response to hit accuracy\n",
      "3: Accurate accounting for the effects of wind conditions on the movement of the ball\n",
      "4: A baseball field that is textured to differentiate between the grass and the dirt\n",
      "Correct!\n",
      " you scored 5/6\n"
     ]
    }
   ],
   "source": [
    "questions = 6\n",
    "correct = 0\n",
    "\n",
    "quiz=[\n",
    "        [\"A researcher gathers data about the effect of Advanced Placement®︎ classes on students' success in college and career, and develops a simulation to show how a sequence of AP classes affect a hypothetical student's pathway.Several school administrators are concerned that the simulation contains bias favoring high-income students, however.\",\n",
    "        {\n",
    "            1: \"The simulation is an abstraction and therefore cannot contain any bias\",\n",
    "            2: \"The simulation may accidentally contain bias due to the exclusion of details\",\n",
    "            3: \"If the simulation is found to contain bias, then it is not possible to remove the bias from the simulation\",\n",
    "            4: \"The only way for the simulation to be biased is if the researcher intentionally used data that favored their desired output\"\n",
    "        },\n",
    "        \"2\"\n",
    "    ],\n",
    "    [\"Jack is trying to plan his financial future using an online tool. The tool starts off by asking him to input details about his current finances and career. It then lets him choose different future scenarios, such as having children. For each scenario chosen, the tool does some calculations and outputs his projected savings at the ages of 35, 45, and 55.Would that be considered a simulation and why?\",\n",
    "        {\n",
    "            1: \"No, it's not a simulation because it does not include a visualization of the results\",\n",
    "            2: \"No, it's not a simulation because it does not include all the details of his life history and the future financial environment\",\n",
    "            3: \"Yes, it's a simulation because it runs on a computer and includes both user input and computed output\",\n",
    "            4: \"Yes, it's a simulation because it is an abstraction of a real world scenario that enables the drawing of inferences\"\n",
    "        },\n",
    "        \"4\"\n",
    "    ],\n",
    "    [\"Sylvia is an industrial engineer working for a sporting goods company. She is developing a baseball bat that can hit balls with higher accuracy and asks their software engineering team to develop a simulation to verify the design. Which of the following details is most important to include in this simulation?\",\n",
    "        {\n",
    "            1: \"Realistic sound effects based on the material of the baseball bat and the velocity of the hit\",\n",
    "            2: \"A depiction of an audience in the stands with lifelike behavior in response to hit accuracy\",\n",
    "            3: \"Accurate accounting for the effects of wind conditions on the movement of the ball\",\n",
    "            4: \"A baseball field that is textured to differentiate between the grass and the dirt\"\n",
    "        },\n",
    "        \"3\"\n",
    "    ],\n",
    "    [\"Ashlynn is an industrial engineer who is trying to design a safer parachute. She creates a computer simulation of the parachute opening at different heights and in different environmental conditions.What are advantages of running the simulation versus an actual experiment? (this question has 2 correct answers, input anser with one comma, ascending, and no spaces)\",\n",
    "        {\n",
    "            1: \"The simulation will not contain any bias that favors one body type over another, while an experiment will be biased\",\n",
    "            2: \"The simulation can be run more safely than an actual experiment\",\n",
    "            3: \"The simulation will accurately predict the parachute's safety level, while an experiment may be inaccurate due to faulty experimental design\",\n",
    "            4: \"The simulation can test the parachute design in a wide range of environmental conditions that may be difficult to reliably reproduce in an experiment\"\n",
    "        },\n",
    "        \"2,4\"\n",
    "    ],\n",
    "    [\"What is often used to create variablility in simulations?\",\n",
    "        {\n",
    "            1: \"Telling the user to roll dice\",\n",
    "            2:  \"Using prestored value in the system to roll code\",\n",
    "            3: \"Using a Random Number Generator\",\n",
    "            4: \"Basing results off what other has said\"\n",
    "        },\n",
    "        \"3\"\n",
    "    ],\n",
    "    [\"Which of the following options is used for simulating a die roll?\",\n",
    "        {\n",
    "            1: \"random.random(1,6)\",\n",
    "            2: \"random.randint(1,6)\",\n",
    "            3: \"random.randrange(1,6)\",\n",
    "            4: \"random.choice(1,6)\"\n",
    "        },\n",
    "        \"2\"\n",
    "    ],\n",
    "]\n",
    "random.shuffle(quiz)\n",
    "for question in quiz:\n",
    "    print(question[0]) #prints the question\n",
    "    for j in question[1]:\n",
    "        print(str(j)+\": \"+question[1][j])#prints the answer choices\n",
    "    if input()==question[2]:#if correct, add on eto the score\n",
    "        print(\"Correct!\")\n",
    "        correct+=1\n",
    "    else:\n",
    "        print(\"Incorrect...\")\n",
    "\n",
    "print( \" you scored \" + str(correct) +\"/\" + str(len(quiz)))#prints the results"
   ]
  },
  {
   "attachments": {},
   "cell_type": "markdown",
   "metadata": {},
   "source": [
    "### Hack #6 / Challenge - Taking real life problems and implementing them into code"
   ]
  },
  {
   "attachments": {},
   "cell_type": "markdown",
   "metadata": {},
   "source": [
    "Create your own simulation based on your experiences/knowledge!\n",
    "Be creative! Think about instances in your own life, science, puzzles that can be made into simulations\n",
    "\n",
    "Some ideas to get your brain running: A simulation that breeds two plants and tells you phenotypes of offspring, an adventure simulation..."
   ]
  },
  {
   "cell_type": "code",
   "execution_count": 35,
   "metadata": {},
   "outputs": [
    {
     "name": "stdout",
     "output_type": "stream",
     "text": [
      "AA: 30 Aa: 34 aa: 23\n",
      "AA: 31 Aa: 44 aa: 28\n",
      "A disaster occured, killing 28 individuals.\n",
      "AA: 35 Aa: 48 aa: 1\n",
      "AA: 38 Aa: 53 aa: 2\n",
      "AA: 45 Aa: 57 aa: 2\n",
      "AA: 50 Aa: 61 aa: 3\n",
      "AA: 59 Aa: 64 aa: 6\n",
      "AA: 74 Aa: 68 aa: 8\n",
      "AA: 86 Aa: 72 aa: 8\n",
      "AA: 98 Aa: 80 aa: 9\n",
      "AA: 109 Aa: 90 aa: 11\n",
      "AA: 120 Aa: 100 aa: 12\n",
      "AA: 134 Aa: 105 aa: 12\n",
      "AA: 153 Aa: 111 aa: 15\n",
      "AA: 164 Aa: 124 aa: 18\n",
      "AA: 187 Aa: 136 aa: 24\n",
      "AA: 202 Aa: 154 aa: 27\n",
      "AA: 218 Aa: 175 aa: 33\n",
      "AA: 240 Aa: 196 aa: 36\n",
      "AA: 273 Aa: 219 aa: 39\n"
     ]
    }
   ],
   "source": [
    "# An evolution simulator\n",
    "# a disaster will come when a random variable is under a constant in certain number of rounds, wiping out all the recessive allele in a population\n",
    "# individuals will mate at a set chance with another individual\n",
    "# at end of the rounds, announce the number of genes\n",
    "import random\n",
    "\n",
    "def mate(a,b): #Function to simulate the mating of an individual with another\n",
    "    i=a[random.randint(0,1)]\n",
    "    j=b[random.randint(0,1)]\n",
    "    if i>=j:\n",
    "        return j+i\n",
    "    else:\n",
    "        return i+j\n",
    "\n",
    "def count(population):\n",
    "    AA=0\n",
    "    Aa=0\n",
    "    aa=0\n",
    "    for indi in population:\n",
    "        if indi == \"AA\":\n",
    "            AA+=1\n",
    "        if indi == \"Aa\":\n",
    "            Aa+=1\n",
    "        if indi == \"aa\":\n",
    "            aa+=1\n",
    "    print(\"AA: \"+str(AA)+\" Aa: \"+str(Aa)+\" aa: \"+str(aa))\n",
    "\n",
    "DISASTER=0.10# Declare the constants\n",
    "MATE=0.10\n",
    "ROUNDS=20\n",
    "POP=100\n",
    "population=[[\"A\",\"a\"][random.randint(0,1)]+[\"A\",\"a\"][random.randint(0,1)] for i in range(POP)]#Generate the population\n",
    "for i in range(ROUNDS):\n",
    "    if random.random()<DISASTER: # When disaster event occurs, wipe out all that has the recessive trait\n",
    "        i=0\n",
    "        kill=0\n",
    "        while i<len(population):\n",
    "            if population[i] == \"aa\":\n",
    "                population.pop(i)\n",
    "                kill+=1\n",
    "            else:\n",
    "                i+=1\n",
    "        print(\"A disaster occured, killing\",kill,\"individuals.\")\n",
    "    child=[]\n",
    "    for indi in population: # For each of individual, if a value under mate, they mate with another individual\n",
    "        if random.random()<MATE:\n",
    "            child.append(mate(indi,population[random.randint(0,len(population)-1)]))\n",
    "    population+=child\n",
    "    count(population)"
   ]
  }
 ],
 "metadata": {
  "kernelspec": {
   "display_name": "Python 3",
   "language": "python",
   "name": "python3"
  },
  "language_info": {
   "codemirror_mode": {
    "name": "ipython",
    "version": 3
   },
   "file_extension": ".py",
   "mimetype": "text/x-python",
   "name": "python",
   "nbconvert_exporter": "python",
   "pygments_lexer": "ipython3",
   "version": "3.8.10"
  },
  "orig_nbformat": 4,
  "vscode": {
   "interpreter": {
    "hash": "916dbcbb3f70747c44a77c7bcd40155683ae19c65e1c03b4aa3499c5328201f1"
   }
  }
 },
 "nbformat": 4,
 "nbformat_minor": 2
}
