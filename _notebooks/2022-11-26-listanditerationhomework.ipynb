{
 "cells": [
  {
   "cell_type": "markdown",
   "metadata": {},
   "source": [
    "# Lists and Iteration Homework and Challenges\n",
    "- title: Lists and Iteration Homework\n",
    "- toc: true\n",
    "- comments: true\n",
    "- categories: [Week-13,Big-Idea-3]"
   ]
  },
  {
   "cell_type": "markdown",
   "metadata": {},
   "source": [
    "## Overview and Notes:  3.10 - Lists\n",
    "\n",
    "* Lists are a number of items that is refered to by an index\n",
    "    * In most languages, the index start at 0 (but it starts at 1 for collegeboard)\n",
    "* Lists can be used to store a large amounts of information that would've required a lot of variables to store\n",
    "\n",
    "Fill out the empty boxes: \n",
    "\n",
    "|   Pseudocode Operation  | Python Syntax |                                                           Description                                                          |\n",
    "|:-----------------------:|---------------|:------------------------------------------------------------------------------------------------------------------------------:|\n",
    "|         aList[i]        |       aList[i]        | Accesses the element of aList at index i                                                                                     |\n",
    "|       x ← aList[i]      |       x = aList[i]        | Assigns the element of aList at index i <br>to a variable 'x'                                                                |\n",
    "|       aList[i] ← x      |      aList(i) = x         | Assigns the value of a variable 'x' to <br>the element of a List at index i                                                  |\n",
    "|   aList[i] ← aList[j]   |       aList[i] = aList[j]        | _Assigns value of aList[j] to aList[i]_                                                                                        |\n",
    "| INSERT(aList, i, value) |       aList.insert(i, value)        | value is placed at index i in aList. Any <br>element at an index greater than i will shift<br>one position to the right.     |\n",
    "|   APPEND(aList, value)  |      aList.append(value)         | Adds value at the very end of the list, length of List increases by 1                                    |\n",
    "|     REMOVE(aList, i)    |      aList.pop(i)<br>OR<br>aList.remove(value)         | Removes item at index i and any values at <br>indices greater than i shift to the left. <br>Length of aList decreased by 1.  |\n"
   ]
  },
  {
   "cell_type": "markdown",
   "metadata": {},
   "source": [
    "## Overview and Notes:  3.8 - Iteration\n",
    "\n",
    "* Iteration is the repetition of a particular set of algorithm\n",
    "    * Conditional Iteration is iterations that only stops when a condition is met, often using if statements\n",
    "* Iteration is often done using loops\n",
    "    * Also often uses lists or dictionaries\n",
    "* Nested loops is useful for iterating inside a iteration"
   ]
  },
  {
   "cell_type": "markdown",
   "metadata": {},
   "source": [
    "## Homework Assignment\n",
    "\n",
    "Instead of us making a quiz for you to take, we would like YOU to make a quiz about the material we reviewed.\n",
    "\n",
    "We would like you to <mark>input questions into a list</mark>, and use some sort of iterative system to print the questions, detect an input, and determine if you answered correctly. There should be *at least* <mark>five questions</mark>, each with *at least* <mark>three possible answers</mark>.\n",
    "\n",
    "You may use the template below as a framework for this assignment."
   ]
  },
  {
   "cell_type": "code",
   "execution_count": 10,
   "metadata": {},
   "outputs": [],
   "source": [
    "import random\n",
    "questions = []\n",
    "\n",
    "def questionloop():\n",
    "    asking=True\n",
    "    while asking:\n",
    "        question=input(\"Please add a question: \")\n",
    "        ansCount=int(input(\"Enter how many options do you want: \"))\n",
    "        answers=[]\n",
    "        for i in range(ansCount):\n",
    "            answer=input(\"Enter a Answer: \")\n",
    "            answers.append(answer)\n",
    "        correctAns=int(input(\"Enter the correct ans (in number): \"))\n",
    "        questions.append([question,answers,correctAns])\n",
    "        asking=input(\"Add more questions? (Y/N)\")==\"Y\"\n",
    "\n",
    "def answercheck():\n",
    "    score=0\n",
    "    total=0\n",
    "    random.shuffle(questions)\n",
    "    for question in questions:\n",
    "        print(question[0])\n",
    "        for i in range(len(question[1])):\n",
    "            print(str(i+1)+\". \"+question[1][i])\n",
    "        if input()==question[2]:\n",
    "            score+=1\n",
    "        total+=1\n",
    "        print(\"Your score is \"+str(score)+'/'+str(total))\n",
    "    if (score/total>0.6):\n",
    "        print(\"You passed the test!\")\n",
    "    else:\n",
    "        print(\"You didn't pass the test...\")\n",
    "\n",
    "questionloop()\n",
    "answercheck()"
   ]
  },
  {
   "cell_type": "markdown",
   "metadata": {},
   "source": [
    "### Hacks\n",
    "\n",
    "Here are some ideas of things you can do to make your program even cooler. Doing these will raise your grade if done correctly.\n",
    "\n",
    "- Add more than five questions with more than three answer choices ✓\n",
    "- Randomize the order in which questions/answers are output ✓\n",
    "- At the end, display the user's score and determine whether or not they passed ✓\n",
    "\n",
    "## Challenges\n",
    "\n",
    "<mark>Important!</mark> You don't have to complete these challenges completely perfectly, but you will be marked down if you don't show evidence of at least having tried these challenges in the time we gave during the lesson.\n",
    "\n",
    "### 3.10 Challenge\n",
    "\n",
    "Follow the instructions in the code comments."
   ]
  },
  {
   "cell_type": "code",
   "execution_count": 2,
   "metadata": {},
   "outputs": [
    {
     "name": "stdout",
     "output_type": "stream",
     "text": [
      "carrots\n",
      "carrots\n",
      "artichokes\n",
      "['apples', 'eggs', 'artichokes', 'carrots', 'cucumbers', 'umbrellas', 'artichokes']\n"
     ]
    }
   ],
   "source": [
    "grocery_list = ['apples', 'milk', 'oranges', 'carrots', 'cucumbers']\n",
    "\n",
    "# Print the fourth item in the list\n",
    "print(grocery_list[3])\n",
    "\n",
    "# Now, assign the fourth item in the list to a variable, x and then print the variable\n",
    "grocery_3=grocery_list[3]\n",
    "print(grocery_3)\n",
    "\n",
    "# Add these two items at the end of the list : umbrellas and artichokes\n",
    "grocery_list.append(\"umbrellas\")\n",
    "grocery_list.append(\"artichokes\")\n",
    "\n",
    "\n",
    "# Insert the item eggs as the third item of the list \n",
    "grocery_list.insert(2,\"eggs\")\n",
    "\n",
    "# Remove milk from the list \n",
    "grocery_list.remove(\"milk\")\n",
    "\n",
    "# Assign the element at the end of the list to index 2. Print index 2 to check\n",
    "grocery_list[2]=grocery_list[-1]\n",
    "print(grocery_list[2])\n",
    "\n",
    "# Print the entire list, does it match ours ? \n",
    "print(grocery_list)\n",
    "\n",
    "# Expected output\n",
    "# carrots\n",
    "# carrots\n",
    "# artichokes\n",
    "# ['apples', 'eggs', 'artichokes', 'carrots', 'cucumbers', 'umbrellas', 'artichokes']"
   ]
  },
  {
   "cell_type": "markdown",
   "metadata": {},
   "source": [
    "### 3.8 Challenge\n",
    "\n",
    "Create a loop that <mark>converts 8-bit binary values</mark> from the provided list into <mark>decimal numbers</mark>. Then, after the value is determined, <mark>remove all the values greater than 100</mark> from the list using a list-related function you've been taught before. <mark>Print the new list</mark> when done.\n",
    "\n",
    "Once you've done this with one of the types of loops discussed in this lesson, create a function that does the same thing with a *different* type of loop."
   ]
  },
  {
   "cell_type": "code",
   "execution_count": 6,
   "metadata": {},
   "outputs": [
    {
     "name": "stdout",
     "output_type": "stream",
     "text": [
      "[73, 55]\n"
     ]
    }
   ],
   "source": [
    "binarylist = [\n",
    "    \"01001001\", \"10101010\", \"10010110\", \"00110111\", \"11101100\", \"11010001\", \"10000001\"\n",
    "]\n",
    "\n",
    "def binary_convert(binary):\n",
    "    ansList=[]\n",
    "    for bin in binary:\n",
    "        ans=0\n",
    "        for i in range(8):\n",
    "            ans+=int(bin[i])*2**(8-i-1)\n",
    "        ansList.append(ans)\n",
    "    \n",
    "    ind=0\n",
    "    while ind<len(ansList):\n",
    "        if ansList[ind]>100:\n",
    "            ansList.pop(ind)\n",
    "        else:\n",
    "            ind+=1\n",
    "    return ansList\n",
    "\n",
    "print(binary_convert(binarylist))"
   ]
  }
 ],
 "metadata": {
  "kernelspec": {
   "display_name": "Python 3.8.10 64-bit",
   "language": "python",
   "name": "python3"
  },
  "language_info": {
   "codemirror_mode": {
    "name": "ipython",
    "version": 3
   },
   "file_extension": ".py",
   "mimetype": "text/x-python",
   "name": "python",
   "nbconvert_exporter": "python",
   "pygments_lexer": "ipython3",
   "version": "3.8.10"
  },
  "orig_nbformat": 4,
  "vscode": {
   "interpreter": {
    "hash": "916dbcbb3f70747c44a77c7bcd40155683ae19c65e1c03b4aa3499c5328201f1"
   }
  }
 },
 "nbformat": 4,
 "nbformat_minor": 2
}
