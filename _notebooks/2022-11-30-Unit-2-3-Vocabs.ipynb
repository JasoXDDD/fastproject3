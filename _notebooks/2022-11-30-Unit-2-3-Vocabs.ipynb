{
 "cells": [
  {
   "attachments": {},
   "cell_type": "markdown",
   "metadata": {},
   "source": [
    "# Unit 2-3 Vocabulary\n",
    "\n",
    "- toc: true\n",
    "- comments: true\n",
    "- categories: [Week-13,Big-Idea-3]"
   ]
  },
  {
   "attachments": {},
   "cell_type": "markdown",
   "metadata": {},
   "source": [
    "|Vocabulary             |Meaning   |\n",
    "|-----------------------|----------|\n",
    "|bit                    |The smallest value a computer can store, 0 or 1|\n",
    "|Byte                   |8 bits|\n",
    "|Hexadecimal            |A numbering system with base 16|\n",
    "|Nibble                 |4 bits|\n",
    "|Binary number          |A number that is represented with binary|\n",
    "|Unsigned number        |A number that has no signs (Always positive or 0)|\n",
    "|Signed number          |A numeber with signs, can be positve or negative|\n",
    "|Floating point         |A number that has a decimal point (A decimal)|\n",
    "|Boolean                |A variable that is either True or False|\n",
    "|ASCII                  |A character encoding scheme where each character is represented with a unique 8-bit binary sequencing|\n",
    "|Unicode                |A set of 16-bit characters which represents all keyboard characters|\n",
    "|RGB                    |A coding scheme where colors are prepresented with 3 8-bit values representing red, blue, and green|\n",
    "|Data Compression       |A process to make a file take up less space in computer|\n",
    "|Lossy Compression      |A Data compression method that loses information|\n",
    "|Lossless Compression   |A data compression method that does not lose information|\n",
    "|Variable               |A value that has is assigned to a name and is changeable|\n",
    "|Data type              |The type of value stored in a variable (string, int, etc.)|\n",
    "|Assignment Operators   |Operators used to assign a new value to a variable|\n",
    "|List                   |A variable that has contains many values that are assigned to a int index within the list|\n",
    "|2D Array               |A list of lists that can contain values on a 2D scale|\n",
    "|Dictionary             |A type or varible like list but the indexes are values not restricted to ints|\n",
    "|Class                  |A defined structure that can be used to create an object|\n",
    "|Algorithm              |A set of instuctions that be used to solve problems or perform tasks|\n",
    "|Sequence               |The order where an algorithm do tasks in|\n",
    "|Selection              |The selection of outcomes depending on a condition in an algorithm|\n",
    "|Iteration              |The repetition of a part of an algorithm if a conditional is met|\n",
    "|Operators              |A expression that represents an action to be done on values|\n",
    "|Operands               |Values that operators operates on|\n",
    "|Expressions            |A combination of values that are combined to be intepreted as a new value|\n",
    "|Relational Operators   |A operator that compares 2 values and returns a boolean|\n",
    "|Logical Operator       |A operator that does actions on boolean values and has outcomes depending on the values of the booleans|\n",
    "|Truth Tables           |A table that shows the outcome of a set of logical operators with named operands on all possible permutations of operands|\n",
    "|Character              |One symbol|\n",
    "|String                 |Ordered sequence of characters|\n",
    "|Length                 |The number of values in a list or string|\n",
    "|Concatenation          |The \"addition\" of strings or lists that returns a value with both of them connected|\n",
    "|Conditionals           |The expressions that controls the flow of an algorithm|\n",
    "|Nested Conditionals    |Conditional that contains other conditionals in it|\n",
    "|Algorithm              |A set of actions that can be followed to solve a problem|\n",
    "|Parameters             |Inputs of algorithms|\n",
    "|Search                 |An algorithm that returns the position of a value in a list|\n",
    "|Binary Search          |A searching algorithm that splits the lists into 2 everytime searching is done, having a logrithmic time complexity|\n",
    "|Procedure              |A named algorithm that can be used to solve a problem|\n",
    "|Parameter              |The inputs that are entered into a procedure|\n",
    "|Modularity             |The splitting of parts into a function for easier uses|\n",
    "|Procedural Abstraction |The ability of calling a procedure without stating the procedure directly|\n",
    "|Library                |Preexisting functions that can be imported into programming|\n",
    "|Simulation             |A program that represents a simplified version of a real world situation|\n",
    "|Problem                |A task that may or not be solvable with an procedure|\n",
    "|Decison Problem        |A problem with a yes or no answer|\n",
    "|Organsiation Problem   |A problem which looks for the best answer|\n",
    "|Instance               |A specific set of inputs of a problem|\n",
    "|Efficiency             |How much computing is required to solve a problem|\n",
    "|Heuristic Approach     |An approach that sacrafices the best solution of efficiency|\n",
    "|Undecidable Problem    |A problem that has no solution|"
   ]
  }
 ],
 "metadata": {
  "kernelspec": {
   "display_name": "Python 3",
   "language": "python",
   "name": "python3"
  },
  "language_info": {
   "name": "python",
   "version": "3.8.10 (default, Jun 22 2022, 20:18:18) \n[GCC 9.4.0]"
  },
  "orig_nbformat": 4,
  "vscode": {
   "interpreter": {
    "hash": "916dbcbb3f70747c44a77c7bcd40155683ae19c65e1c03b4aa3499c5328201f1"
   }
  }
 },
 "nbformat": 4,
 "nbformat_minor": 2
}
