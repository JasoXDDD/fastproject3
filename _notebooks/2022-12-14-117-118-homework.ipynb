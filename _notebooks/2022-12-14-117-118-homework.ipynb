{
 "cells": [
  {
   "attachments": {},
   "cell_type": "markdown",
   "metadata": {},
   "source": [
    "# 3.17 - 3.18\n",
    "- title: Homework 3.17 - 3.18\n",
    "- permalink: /homework1718"
   ]
  },
  {
   "attachments": {},
   "cell_type": "markdown",
   "metadata": {},
   "source": [
    "# 3.17 Algorithmic Efficiency"
   ]
  },
  {
   "attachments": {},
   "cell_type": "markdown",
   "metadata": {},
   "source": [
    "## Vocabulary\n",
    "- Problem: A general descriptionof a task that can't be solved algorithmically\n",
    "    - Decision Problem: A problem with a yes or no answer\n",
    "    - Organization Problem: A problem about finding the best anser\n",
    "- Instance: A problem with a specific input\n",
    "- Efficiency: Amount of computing needed for a input\n",
    "    - Polynomial Efficiency (Good): More work takes a proportional amount of time\n",
    "    - Exponential Efficiency (Bad): More work takes an exponential amount of time\n",
    "- Heuristic Approach: When the optimal is inefficient, look for a possibly optimal solution with better efficiency\n",
    "- Decidable Problem: A problem with a clear answer\n",
    "- Undecidable Problem: A problem with no solution not been guaranteed to produce the correct the correct output\n"
   ]
  },
  {
   "attachments": {},
   "cell_type": "markdown",
   "metadata": {},
   "source": [
    "## Notes\n",
    "- Less function lead to less efficiency\n",
    "    - More functions = more time = less efficiency\n",
    "- Heuristical approach is used to sacrafice the optimal solution for efficiency"
   ]
  },
  {
   "attachments": {},
   "cell_type": "markdown",
   "metadata": {},
   "source": [
    "## Challenge\n",
    "Try and fix this ineficcient code!\n",
    "Only change the code between the two commented lines.\n",
    "Fully programmed solution will improve your grade, at a minimum show that you tried."
   ]
  },
  {
   "cell_type": "code",
   "execution_count": 3,
   "metadata": {},
   "outputs": [
    {
     "name": "stdout",
     "output_type": "stream",
     "text": [
      "0.20411324501037598 seconds\n"
     ]
    }
   ],
   "source": [
    "import time\n",
    "numlist = [1,3,5,7,9,11,13,15,17,19]\n",
    "valuelist = [0,3,6,9,12,15,18,21]\n",
    "def isvalue(value,array):\n",
    "    #--------------------\n",
    "    return value in array\n",
    "    \"\"\"\n",
    "    Binary Solution (less efficient):\n",
    "    copy=array.copy()\n",
    "    copy.sort()\n",
    "    low=0\n",
    "    high=len(array)-1\n",
    "    while low<=high:\n",
    "        mid = (low+high)//2\n",
    "        if copy[mid]<value:\n",
    "            low=mid+1\n",
    "        else:\n",
    "            high=mid\n",
    "    return copy[mid]==value\"\"\"\n",
    "    #--------------------\n",
    "starttime = time.time()\n",
    "for i in range(100000):\n",
    "    for i in range(len(valuelist)):\n",
    "        x = isvalue(valuelist[i],numlist)\n",
    "endtime = time.time()\n",
    "print(endtime-starttime,'seconds') "
   ]
  },
  {
   "attachments": {},
   "cell_type": "markdown",
   "metadata": {},
   "source": [
    "# 3.18 Undecidable Problems"
   ]
  },
  {
   "attachments": {},
   "cell_type": "markdown",
   "metadata": {},
   "source": [
    "## Notes\n",
    "- Undecidable problems are results of paradoxes\n",
    "    - Undecidable problems halts progress in servers and more.\n",
    "        - Causes internet buffering due to internet getting caught up in something"
   ]
  },
  {
   "attachments": {},
   "cell_type": "markdown",
   "metadata": {},
   "source": [
    "# Homework!\n",
    "\n",
    "Make an algorithm that finds the fastest route that hits every location once starting and ending at Del Norte. Make sure to show your thinking. If you are strugling, try using a huristic approach. Remember, what matters more than having perfectly functioning code is that you tried your hardest."
   ]
  },
  {
   "cell_type": "code",
   "execution_count": 24,
   "metadata": {},
   "outputs": [],
   "source": [
    "dataset = {\n",
    "    'Del Norte':{\n",
    "        'Westview':15,\n",
    "        'MtCarmel':20,\n",
    "        'Poway':35,\n",
    "        'RanchoBernado':50\n",
    "    },\n",
    "    'Westview':{\n",
    "        'Del Norte':15,\n",
    "        'MtCarmel':35,\n",
    "        'Poway':25,\n",
    "        'RanchoBernado': 45\n",
    "    },\n",
    "    'MtCarmel':{\n",
    "        'Westview':35,\n",
    "        'Del Norte':20,\n",
    "        'Poway':40,\n",
    "        'RanchoBernado':30\n",
    "    },\n",
    "    'Poway':{\n",
    "        'Westview':25,\n",
    "        'MtCarmel':40,\n",
    "        'Del Norte':35,\n",
    "        'RanchoBernado':15\n",
    "    },\n",
    "    'RanchoBernado':{\n",
    "        'Westview':45,\n",
    "        'MtCarmel':30,\n",
    "        'Poway':15,\n",
    "        'Del Norte':50\n",
    "    }\n",
    "}"
   ]
  },
  {
   "cell_type": "code",
   "execution_count": 28,
   "metadata": {},
   "outputs": [
    {
     "name": "stdout",
     "output_type": "stream",
     "text": [
      "(105, ['Del Norte', 'Westview', 'Poway', 'RanchoBernado', 'MtCarmel', 'Del Norte']) 9.703636169433594e-05\n",
      "(85, ['Del Norte', 'Westview', 'Poway', 'RanchoBernado', 'MtCarmel', 'Del Norte']) 0.0001728534698486328\n"
     ]
    }
   ],
   "source": [
    "import time\n",
    "def fastestroutefast(start,last,time,order): # The algorithm returns a fast route quickly\n",
    "    global dataset\n",
    "    if len(order)>=len(dataset):\n",
    "        return time+dataset[start][\"Del Norte\"], order+[\"Del Norte\"]\n",
    "    nextStop=[\"\",2147483647]\n",
    "    for i in dataset[start]: # go to the closest school\n",
    "        if order.count(i)==0 and i!=last:\n",
    "            if nextStop[1]>dataset[start][i]:\n",
    "                nextStop[0]=i\n",
    "                nextStop[1]=dataset[start][i]\n",
    "    return fastestroutefast(nextStop[0],start,time+nextStop[1],order+[nextStop[0]])\n",
    "\n",
    "def fastestroutebest(start,last,time,order): # The algorithm that returns the fastest route\n",
    "    global dataset\n",
    "    ansTime=2147483647\n",
    "    ansOrder=[]\n",
    "    tempTime=0\n",
    "    tempOrder=[]\n",
    "    if len(order)>=len(dataset) and start!=\"Del Norte\":\n",
    "        return time, order+[\"Del Norte\"] # return the time it took to get this school and order\n",
    "    for i in dataset[start]: # go to the every school\n",
    "        if order.count(i)==0 and i!=last:\n",
    "            tempTime,tempOrder=fastestroutebest(i,start,time+dataset[start][i],order+[i])\n",
    "            if ansTime>tempTime:\n",
    "                ansTime=tempTime\n",
    "                ansOrder=tempOrder\n",
    "    return ansTime,ansOrder\n",
    "\n",
    "# Look for a solution, recoding time with time module\n",
    "startTime=time.time()\n",
    "fast=fastestroutefast(\"Del Norte\",\"\",0,[\"Del Norte\"])\n",
    "endTime=time.time()\n",
    "print(fast,endTime-startTime)# huristic approach saves time\n",
    "startTime=time.time()\n",
    "best=fastestroutebest(\"Del Norte\",\"\",0,[\"Del Norte\"])\n",
    "endTime=time.time()\n",
    "print(best,endTime-startTime)"
   ]
  },
  {
   "attachments": {},
   "cell_type": "markdown",
   "metadata": {},
   "source": [
    "### Grading:\n",
    "|Challenge|Homework|\n",
    "|---|---|\n",
    "|.10 pts for attempt|.65 for attempt|\n",
    "|.15 pts for complete|.70 for complete|\n",
    "|.20 pts for above and beyond|.75 pts for above and beyond|\n"
   ]
  }
 ],
 "metadata": {
  "kernelspec": {
   "display_name": "Python 3",
   "language": "python",
   "name": "python3"
  },
  "language_info": {
   "codemirror_mode": {
    "name": "ipython",
    "version": 3
   },
   "file_extension": ".py",
   "mimetype": "text/x-python",
   "name": "python",
   "nbconvert_exporter": "python",
   "pygments_lexer": "ipython3",
   "version": "3.8.10"
  },
  "orig_nbformat": 4,
  "vscode": {
   "interpreter": {
    "hash": "916dbcbb3f70747c44a77c7bcd40155683ae19c65e1c03b4aa3499c5328201f1"
   }
  }
 },
 "nbformat": 4,
 "nbformat_minor": 2
}
