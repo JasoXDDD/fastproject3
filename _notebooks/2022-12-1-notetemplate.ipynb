{
 "cells": [
  {
   "cell_type": "markdown",
   "metadata": {},
   "source": [
    "# Note Template\n",
    "- comments: true"
   ]
  },
  {
   "cell_type": "markdown",
   "metadata": {},
   "source": [
    "# Take some additional notes that you would like here for 3.12 and 3.13. We will be looking for additional notes from the presentation. \n"
   ]
  },
  {
   "attachments": {},
   "cell_type": "markdown",
   "metadata": {},
   "source": [
    "# What are procedures?\n",
    "\n",
    "**Fill in the blanks please:**\n",
    "\n",
    "Procedure: A named algorithm that has parameters and return values\n",
    "\n",
    "Parameters: inputs of a procedure\n",
    "\n",
    "Arguments: specifying values of parameter when procedure is called\n",
    "\n",
    "Modularity: Seperating parts of functions into other functions for easier usage\n",
    "\n",
    "Procedural Abstraction: The ability to call a process without stating what it does, but the name of the procedure\n",
    "\n",
    "What are some other names for procedures?: method, function\n",
    "\n",
    "Why are procedures effective?: They can do certain things without stating the same thing many times in different places\n"
   ]
  },
  {
   "attachments": {},
   "cell_type": "markdown",
   "metadata": {},
   "source": [
    "## <mark>Challenge 1</mark> below: Add the command that will **call** the procedure. "
   ]
  },
  {
   "cell_type": "code",
   "execution_count": 5,
   "metadata": {},
   "outputs": [
    {
     "name": "stdout",
     "output_type": "stream",
     "text": [
      "111\n"
     ]
    }
   ],
   "source": [
    "decimal = 7\n",
    "\n",
    "def convertToBinary(n):\n",
    "    ans = \"\"\n",
    "    if n == 0:\n",
    "        return 0\n",
    "    while n:\n",
    "        ans += str(n&1)\n",
    "        n = n >> 1\n",
    "     \n",
    "    ans = ans[::-1]\n",
    " \n",
    "    return ans\n",
    "print(convertToBinary(decimal))"
   ]
  },
  {
   "attachments": {},
   "cell_type": "markdown",
   "metadata": {},
   "source": [
    "## <mark>Challenge 2</mark> below: Complete the Min and Max procedure in either JavaScript and Python using the instructions from the JavaScript page. (JavaScript will get you a extra 0.1)"
   ]
  },
  {
   "cell_type": "code",
   "execution_count": 7,
   "metadata": {},
   "outputs": [
    {
     "name": "stdout",
     "output_type": "stream",
     "text": [
      "6\n",
      "1\n"
     ]
    }
   ],
   "source": [
    "def findMax(*args):\n",
    "    ans=args[0]\n",
    "    for arg in args:\n",
    "        if ans<arg:\n",
    "            ans=arg\n",
    "    return ans\n",
    "def findMin(*args):\n",
    "    ans=args[0]\n",
    "    for arg in args:\n",
    "        if ans>arg:\n",
    "            ans=arg\n",
    "    return ans\n",
    "print(findMax(1,3,4,5,2,6))\n",
    "print(findMin(1,3,4,5,2,6))"
   ]
  },
  {
   "attachments": {},
   "cell_type": "markdown",
   "metadata": {},
   "source": [
    "## <mark>Homework/Hacks</mark>: For the hw, you have two options, easy or hard. The easy hack is for a 2.7 + extra work for the full 3. The easy hack is simply creating your own procedure with your own creativity. Since there is a lot of leeway for this one, you must do additional work to get a 3. For the hard hack, below is the start to a character to binary convertor. This is just a template, but the goal is to translate \"APCSP\" into binary. You can delete the existing code if you want. The only contraint is that you must use a procedure. Doing this will get you a 3. "
   ]
  },
  {
   "cell_type": "code",
   "execution_count": 10,
   "metadata": {},
   "outputs": [
    {
     "name": "stdout",
     "output_type": "stream",
     "text": [
      "APCSP in binary is\n",
      "['1000001', '1010000', '1000011', '1010011', '1010000']\n"
     ]
    }
   ],
   "source": [
    "def charToBinary(x):\n",
    "    ans=[]\n",
    "    for chr in x:\n",
    "        dec=ord(chr)\n",
    "        ans.append(convertToBinary(dec))\n",
    "    return ans\n",
    "\n",
    "string=\"APCSP\"\n",
    "print(string+\" in binary is\")\n",
    "print(charToBinary(string))\n",
    "# The output shown below is the output you are supposed to get\n",
    "# ''APCSP'' in binary is \n",
    "# [1000001, 1010000, 1000011, 1010011, 1010000]"
   ]
  }
 ],
 "metadata": {
  "kernelspec": {
   "display_name": "Python 3",
   "language": "python",
   "name": "python3"
  },
  "language_info": {
   "codemirror_mode": {
    "name": "ipython",
    "version": 3
   },
   "file_extension": ".py",
   "mimetype": "text/x-python",
   "name": "python",
   "nbconvert_exporter": "python",
   "pygments_lexer": "ipython3",
   "version": "3.8.10 (default, Jun 22 2022, 20:18:18) \n[GCC 9.4.0]"
  },
  "orig_nbformat": 4,
  "vscode": {
   "interpreter": {
    "hash": "31f2aee4e71d21fbe5cf8b01ff0e069b9275f58929596ceb00d14d90e3e16cd6"
   }
  }
 },
 "nbformat": 4,
 "nbformat_minor": 2
}
