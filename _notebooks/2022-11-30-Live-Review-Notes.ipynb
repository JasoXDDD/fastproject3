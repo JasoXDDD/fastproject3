{
 "cells": [
  {
   "cell_type": "markdown",
   "metadata": {},
   "source": [
    "# Live Review Notes\n",
    "\n",
    "- toc: true\n",
    "- comments: true\n",
    "- categories: [Week-13,Big-Idea-3]"
   ]
  },
  {
   "cell_type": "markdown",
   "metadata": {},
   "source": [
    "## 3.1 Variables and Assignments\n",
    "* Variables are specific things that stores a value\n",
    "* Values can be individual datas or a list/collection that contains many data values\n",
    "* Types of data include ints, Booleans, lists, and strings\n",
    "    * Floats work just like ints, but floats have decimals\n",
    "* Assignments is done with the = sign\n",
    "    * Lists are assigned withcan have values added to them with the append function\n",
    "    * Dictionaries are initialized with {} and : signs\n",
    "    * variables can also be assigned\n",
    "* Expressions can be used to change a number +,-,*,/,//,% are some of the examples"
   ]
  },
  {
   "cell_type": "markdown",
   "metadata": {},
   "source": [
    "## 3.2 Data Abstraction\n",
    "* Connects the abstract data with concrete details of its representation\n",
    "* Manage Complexity by refering to a variable without assigning it to a name\n",
    "    * Lists can treat many variables by treating it like a single variable.\n",
    "* Data abstraction makes it easier to maintain code\n",
    "* Collegeboard lists starts at 1, instead of 0 like most programming languages\n",
    "* The split function can be used to split a string into a list"
   ]
  },
  {
   "cell_type": "markdown",
   "metadata": {},
   "source": [
    "## 3.3 Expressions\n",
    "* Symbols that do something\n",
    "    * \\+ is addition, \n",
    "    * \\- is subtraction,\n",
    "    * \\* is multiplication\n",
    "    * / is division\n",
    "    * ** is exponent\n",
    "    * % is modulation\n",
    "* They operates on values to produce a result\n",
    "* Algorithm is a set of procedures that does something"
   ]
  },
  {
   "cell_type": "markdown",
   "metadata": {},
   "source": [
    "## 3.4 Strings\n",
    "* Functions like a list of chars, with indexes at each char of itself.\n",
    "* Concatenaction is the addition of a string to another, with the + expression\n",
    "* Length is the number of chars in a string\n",
    "* A substring is a part of a string\n",
    "* Psuedocode is a procedure that is not written in actual code, but is easiliy understandable"
   ]
  }
 ],
 "metadata": {
  "kernelspec": {
   "display_name": "Python 3.8.10 64-bit",
   "language": "python",
   "name": "python3"
  },
  "language_info": {
   "name": "python",
   "version": "3.8.10"
  },
  "orig_nbformat": 4,
  "vscode": {
   "interpreter": {
    "hash": "916dbcbb3f70747c44a77c7bcd40155683ae19c65e1c03b4aa3499c5328201f1"
   }
  }
 },
 "nbformat": 4,
 "nbformat_minor": 2
}
